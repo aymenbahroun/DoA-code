{
 "cells": [
  {
   "cell_type": "markdown",
   "metadata": {},
   "source": [
    "## Train data generation"
   ]
  },
  {
   "cell_type": "markdown",
   "metadata": {},
   "source": [
    "### Function : positionate the array of microphones"
   ]
  },
  {
   "cell_type": "code",
   "execution_count": 11,
   "metadata": {},
   "outputs": [],
   "source": [
    "def center_to_mics(center):\n",
    "    x_center = center[0]\n",
    "    y_center = center[1]\n",
    "    if(center.shape[0]==3):\n",
    "        z_center = center[2]\n",
    "        \n",
    "    mic0_x = x_center + 0.015\n",
    "    mic0_y = y_center\n",
    "    mic1_x = x_center - 0.015\n",
    "    mic1_y = y_center\n",
    "    mic2_x = x_center + 0.045\n",
    "    mic2_y = y_center + 0.015\n",
    "    mic3_x = x_center + 0.045\n",
    "    mic3_y = y_center - 0.015\n",
    "    mic4_x = x_center - 0.045\n",
    "    mic4_y = y_center + 0.015\n",
    "    mic5_x = x_center - 0.045\n",
    "    mic5_y = y_center - 0.015\n",
    "    \n",
    "    \n",
    "    if(center.shape[0]==3):\n",
    "        pos = np.array([[mic0_x, mic1_x, mic2_x, mic3_x, mic4_x, mic5_x],\n",
    "                          [mic0_y, mic1_y, mic2_y, mic3_y, mic4_y, mic5_y],\n",
    "                             [z_center, z_center, z_center, z_center, z_center, z_center]])\n",
    "        \n",
    "    else:\n",
    "        pos = np.array([[mic0_x, mic1_x, mic2_x, mic3_x, mic4_x, mic5_x],\n",
    "                          [mic0_y, mic1_y, mic2_y, mic3_y, mic4_y, mic5_y]])\n",
    "    return pos\n",
    "    \n",
    "    "
   ]
  },
  {
   "cell_type": "markdown",
   "metadata": {},
   "source": [
    "### Function : calculate angle between source and microphone"
   ]
  },
  {
   "cell_type": "code",
   "execution_count": 12,
   "metadata": {},
   "outputs": [],
   "source": [
    "def angle_to_pos(position, distance, angle):\n",
    "    \n",
    "    rad_ang = np.deg2rad(angle)\n",
    "    \n",
    "    pos_x = position[0] + distance * np.cos(rad_ang)\n",
    "    pos_y = position[1] + distance * np.sin(rad_ang)\n",
    "    \n",
    "    \n",
    "    pos_x = float(pos_x)\n",
    "    pos_y = float(pos_y)\n",
    "    \n",
    "    # round the positions to only 3 decimals \n",
    "    pos_x = round(pos_x, 3)\n",
    "    pos_y = round(pos_y, 3)\n",
    "    \n",
    "    pos = np.array([pos_x, pos_y])\n",
    "    return pos"
   ]
  },
  {
   "cell_type": "code",
   "execution_count": 4,
   "metadata": {},
   "outputs": [],
   "source": [
    "import numpy as np\n",
    "import matplotlib.pyplot as plt\n",
    "from scipy.io import wavfile\n",
    "from scipy.signal import fftconvolve\n",
    "import IPython\n",
    "import pyroomacoustics as pra"
   ]
  },
  {
   "cell_type": "code",
   "execution_count": 20,
   "metadata": {},
   "outputs": [
    {
     "name": "stdout",
     "output_type": "stream",
     "text": [
      "(97, 3800)\n",
      "data generated = 14.29%\n",
      "(193, 3800)\n",
      "data generated = 28.57%\n",
      "(289, 3800)\n",
      "data generated = 42.86%\n",
      "(385, 3800)\n",
      "data generated = 57.14%\n",
      "(481, 3800)\n",
      "data generated = 71.43%\n",
      "(577, 3800)\n",
      "data generated = 85.71%\n"
     ]
    },
    {
     "name": "stderr",
     "output_type": "stream",
     "text": [
      "'c' argument looks like a single numeric RGB or RGBA sequence, which should be avoided as value-mapping will have precedence in case its length matches with 'x' & 'y'.  Please use a 2-D array with a single row if you really want to specify the same RGB or RGBA value for all points.\n"
     ]
    },
    {
     "name": "stdout",
     "output_type": "stream",
     "text": [
      "(673, 3800)\n",
      "data generated = 100.00%\n"
     ]
    },
    {
     "data": {
      "text/plain": [
       "(-4, 10)"
      ]
     },
     "execution_count": 20,
     "metadata": {},
     "output_type": "execute_result"
    },
    {
     "data": {
      "image/png": "[encoded data removed]",
      "text/plain": [
       "<Figure size 432x288 with 1 Axes>"
      ]
     },
     "metadata": {
      "needs_background": "light"
     },
     "output_type": "display_data"
    }
   ],
   "source": [
    "hrir_test = np.zeros((160,180,6))\n",
    "hrir_test[0,:,:] = 1\n",
    "path_lego = '../data/lego1_h_theta_time.npy' #  path to lego mics data \n",
    "hrir_lego  = np.load(path_lego) \n",
    "shape = 3800\n",
    "\n",
    "distance1 = np.array([2])\n",
    "distance2 = np.array([1])\n",
    "\n",
    "# discretization is 12, 24, or 45\n",
    "discretization = 45 \n",
    "angles = np.arange(360, step=discretization)\n",
    "\n",
    "corners_train1 = np.array([[0,0], [0,6], [6,6], [6,0]]).T  # [x,y]\n",
    "max_order = 10\n",
    "room_train1 = pra.Room.from_corners(corners_train1, fs=8000, max_order=max_order, absorption=0.35)\n",
    "\n",
    "# 7 positions of the setup in the room\n",
    "centers = np.array([[2.1,2.1], [2.1,3.9], [3.9,2.1], [3.9,3.9], [3.,2.1], [3.,3.9], [3.,3.]])\n",
    "\n",
    "#initialize the matrix of rirs don't forget the labels\n",
    "train_data1 = np.array([np.zeros(3800)])\n",
    "\n",
    "#total number of data for room1\n",
    "total = centers.shape[0] * angles.shape[0] * 2 * 6 # 7pos * num angles * 2 distances * 6mics\n",
    "\n",
    "for c,center in enumerate(centers):\n",
    "    \n",
    "    R = center_to_mics(center)\n",
    "    mic = pra.MicrophoneArrayHrtf(R, room_train1.fs, hrir_test)\n",
    "    for a,angle in enumerate(angles):\n",
    "        for distance in(distance1, distance2):\n",
    "        \n",
    "            s = angle_to_pos(center, distance, angle)\n",
    "            room_train1 = pra.Room.from_corners(corners_train1, fs=8000, max_order=max_order, absorption=0.35)\n",
    "            room_train1.add_microphone_array(mic)\n",
    "            room_train1.add_source(s)\n",
    "\n",
    "            # compute image sources\n",
    "            room_train1.image_source_model(use_libroom=True)\n",
    "            room_train1.compute_rir_hrtf()\n",
    "\n",
    "\n",
    "            # store the data \n",
    "            rir0 = room_train1.rir[0][0]\n",
    "            rir1 = room_train1.rir[1][0]\n",
    "            rir2 = room_train1.rir[2][0]\n",
    "            rir3 = room_train1.rir[3][0]\n",
    "            rir4 = room_train1.rir[4][0]\n",
    "            rir5 = room_train1.rir[5][0]\n",
    "            \n",
    "            zero0 = np.zeros(shape - rir0.shape[0])\n",
    "            zero1 = np.zeros(shape - rir1.shape[0])\n",
    "            zero2 = np.zeros(shape - rir2.shape[0])\n",
    "            zero3 = np.zeros(shape - rir3.shape[0])\n",
    "            zero4 = np.zeros(shape - rir4.shape[0])\n",
    "            zero5 = np.zeros(shape - rir5.shape[0])\n",
    "\n",
    "            rir0 = np.array([np.concatenate((rir0, zero0), axis=None)])\n",
    "            rir1 = np.array([np.concatenate((rir1, zero1), axis=None)])\n",
    "            rir2 = np.array([np.concatenate((rir2, zero2), axis=None)])\n",
    "            rir3 = np.array([np.concatenate((rir3, zero3), axis=None)])\n",
    "            rir4 = np.array([np.concatenate((rir4, zero4), axis=None)])\n",
    "            rir5 = np.array([np.concatenate((rir5, zero5), axis=None)])          \n",
    "\n",
    "            train_data1 = np.concatenate((train_data1, rir0, rir1, rir2, rir3, rir4, rir5), axis=0)\n",
    "            \n",
    "    percentage = ((train_data1.shape[0]-1)/total) *100\n",
    "    print('data generated = {:0.2f}%'.format(percentage))\n",
    "    \n",
    "train_data1 = train_data1[1:,:]\n",
    "print('finished generation')\n",
    "\n",
    "fig, ax = room_train1.plot(img_order=2)\n",
    "ax.set_xlim([-5, 10])\n",
    "ax.set_ylim([-5, 10])"
   ]
  },
  {
   "cell_type": "code",
   "execution_count": 17,
   "metadata": {},
   "outputs": [
    {
     "name": "stdout",
     "output_type": "stream",
     "text": [
      "data generated = 14.29%\n",
      "data generated = 28.57%\n",
      "data generated = 42.86%\n",
      "data generated = 57.14%\n",
      "data generated = 71.43%\n",
      "data generated = 85.71%\n"
     ]
    },
    {
     "name": "stderr",
     "output_type": "stream",
     "text": [
      "'c' argument looks like a single numeric RGB or RGBA sequence, which should be avoided as value-mapping will have precedence in case its length matches with 'x' & 'y'.  Please use a 2-D array with a single row if you really want to specify the same RGB or RGBA value for all points.\n"
     ]
    },
    {
     "name": "stdout",
     "output_type": "stream",
     "text": [
      "data generated = 100.00%\n",
      "finished generation\n"
     ]
    },
    {
     "data": {
      "text/plain": [
       "(-5, 10)"
      ]
     },
     "execution_count": 17,
     "metadata": {},
     "output_type": "execute_result"
    },
    {
     "data": {
      "image/png": "[encoded data removed]",
      "text/plain": [
       "<Figure size 432x288 with 1 Axes>"
      ]
     },
     "metadata": {
      "needs_background": "light"
     },
     "output_type": "display_data"
    }
   ],
   "source": [
    "hrir_test = np.zeros((160,180,6))\n",
    "hrir_test[0,:,:] = 1\n",
    "path_lego = '../data/lego1_h_theta_time.npy' #  path to lego mics data \n",
    "hrir_lego  = np.load(path_lego) \n",
    "shape = 3800\n",
    "\n",
    "distance1 = np.array([2])\n",
    "distance2 = np.array([1])\n",
    "discretization = 45\n",
    "angles = np.arange(360, step=discretization)\n",
    "\n",
    "\n",
    "corners_train2 = np.array([[0,0], [0,7], [7,7], [7,0]]).T  # [x,y]\n",
    "max_order = 10\n",
    "\n",
    "room_train2 = pra.Room.from_corners(corners_train2, fs=8000, max_order=max_order, absorption=0.25) \n",
    "\n",
    "# 7 random positions of the setup in the room\n",
    "centers = np.array([[2.1,2.1], [2.1,3.9], [3.9,2.1], [3.9,3.9], [3.,2.1], [3.,3.9], [3.,3.]])\n",
    "\n",
    "#initialize the matrix of rirs don't forget the labels\n",
    "train_data2 = np.array([np.zeros(3800)])\n",
    "\n",
    "#total number of data for room2\n",
    "total = centers.shape[0] * angles.shape[0] * 2 * 6 # 7pos * num angles * 2 distances * 6mics\n",
    "\n",
    "for c,center in enumerate(centers):\n",
    "    \n",
    "    R = center_to_mics(center)\n",
    "    mic = pra.MicrophoneArrayHrtf(R, room_train2.fs, hrir_test)\n",
    "    #room_train2.add_microphone_array(mic)\n",
    "    for a,angle in enumerate(angles):\n",
    "        for distance in(distance1, distance2):\n",
    "        \n",
    "            s = angle_to_pos(center, distance, angle)\n",
    "            room_train2 = pra.Room.from_corners(corners_train2, fs=8000, max_order=max_order, absorption=0.25) #0.55\n",
    "            room_train2.add_microphone_array(mic)\n",
    "            room_train2.add_source(s)\n",
    "\n",
    "            # compute image sources\n",
    "            room_train2.image_source_model(use_libroom=True)\n",
    "            room_train2.compute_rir_hrtf()\n",
    "\n",
    "\n",
    "            # store the data \n",
    "            rir0 = room_train2.rir[0][0]\n",
    "            rir1 = room_train2.rir[1][0]\n",
    "            rir2 = room_train2.rir[2][0]\n",
    "            rir3 = room_train2.rir[3][0]\n",
    "            rir4 = room_train2.rir[4][0]\n",
    "            rir5 = room_train2.rir[5][0]\n",
    "\n",
    "            zero0 = np.zeros(shape - rir0.shape[0])\n",
    "            zero1 = np.zeros(shape - rir1.shape[0])\n",
    "            zero2 = np.zeros(shape - rir2.shape[0])\n",
    "            zero3 = np.zeros(shape - rir3.shape[0])\n",
    "            zero4 = np.zeros(shape - rir4.shape[0])\n",
    "            zero5 = np.zeros(shape - rir5.shape[0])\n",
    "\n",
    "            rir0 = np.array([np.concatenate((rir0, zero0), axis=None)])\n",
    "            rir1 = np.array([np.concatenate((rir1, zero1), axis=None)])\n",
    "            rir2 = np.array([np.concatenate((rir2, zero2), axis=None)])\n",
    "            rir3 = np.array([np.concatenate((rir3, zero3), axis=None)])\n",
    "            rir4 = np.array([np.concatenate((rir4, zero4), axis=None)])\n",
    "            rir5 = np.array([np.concatenate((rir5, zero5), axis=None)])\n",
    "\n",
    "            train_data2 = np.concatenate((train_data2, rir0, rir1, rir2, rir3, rir4, rir5), axis=0)\n",
    "            \n",
    "        \n",
    "    percentage = ((train_data2.shape[0]-1)/total) *100\n",
    "    print('data generated = {:0.2f}%'.format(percentage))\n",
    "    \n",
    "\n",
    "train_data2 = train_data2[1:,:]\n",
    "print('finished generation')\n",
    "\n",
    "fig, ax = room_train2.plot(img_order=2)\n",
    "ax.set_xlim([-5, 10])\n",
    "ax.set_ylim([-5, 10])"
   ]
  },
  {
   "cell_type": "code",
   "execution_count": null,
   "metadata": {},
   "outputs": [],
   "source": [
    "train_loader = np.concatenate((train_data1, train_data2), axis=0)"
   ]
  },
  {
   "cell_type": "code",
   "execution_count": null,
   "metadata": {},
   "outputs": [],
   "source": [
    "# 8 class be\n",
    "np.save('train_loader_8class', train_loader )"
   ]
  }
 ],
 "metadata": {
  "kernelspec": {
   "display_name": "Python 3",
   "language": "python",
   "name": "python3"
  },
  "language_info": {
   "codemirror_mode": {
    "name": "ipython",
    "version": 3
   },
   "file_extension": ".py",
   "mimetype": "text/x-python",
   "name": "python",
   "nbconvert_exporter": "python",
   "pygments_lexer": "ipython3",
   "version": "3.7.1"
  }
 },
 "nbformat": 4,
 "nbformat_minor": 2
}
