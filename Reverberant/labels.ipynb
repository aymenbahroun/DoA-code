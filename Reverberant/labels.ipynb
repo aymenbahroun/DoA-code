{
 "cells": [
  {
   "cell_type": "markdown",
   "metadata": {},
   "source": [
    "## Labels of the training and testing data "
   ]
  },
  {
   "cell_type": "code",
   "execution_count": 1,
   "metadata": {},
   "outputs": [],
   "source": [
    "import numpy as np"
   ]
  },
  {
   "cell_type": "markdown",
   "metadata": {},
   "source": [
    "### Training labels"
   ]
  },
  {
   "cell_type": "code",
   "execution_count": 2,
   "metadata": {},
   "outputs": [
    {
     "name": "stdout",
     "output_type": "stream",
     "text": [
      "Enter number of classes: 8\n"
     ]
    }
   ],
   "source": [
    "classes = int(input(\"Enter number of classes: \"))\n",
    "\n",
    "#angles / classes \n",
    "labels = np.arange(classes)\n",
    "#distances\n",
    "labels = np.repeat(labels, 2)\n",
    "#time frames for each angle, distance combination \n",
    "labels = np.repeat(labels, 406)\n",
    "#positions\n",
    "labels2 = np.concatenate((labels,labels,labels,labels,labels,labels,labels), axis=0)\n",
    "#rooms\n",
    "train_labels = np.concatenate((labels2, labels2), axis=0)"
   ]
  },
  {
   "cell_type": "markdown",
   "metadata": {},
   "source": [
    "### Testing labels"
   ]
  },
  {
   "cell_type": "code",
   "execution_count": 3,
   "metadata": {},
   "outputs": [],
   "source": [
    "#angle / classes \n",
    "labels = np.arange(classes)\n",
    "#time frames \n",
    "labels = np.repeat(labels, 406)\n",
    "#rooms\n",
    "test_labels = np.concatenate((labels, labels), axis=0)"
   ]
  },
  {
   "cell_type": "markdown",
   "metadata": {},
   "source": [
    "### The shapes of the labels for training and testing\n",
    "We show here for 8 classe i.e. 45° discretization"
   ]
  },
  {
   "cell_type": "code",
   "execution_count": 4,
   "metadata": {},
   "outputs": [
    {
     "data": {
      "text/plain": [
       "((90944,), (6496,))"
      ]
     },
     "execution_count": 4,
     "metadata": {},
     "output_type": "execute_result"
    }
   ],
   "source": [
    "train_labels.shape, test_labels.shape"
   ]
  },
  {
   "cell_type": "markdown",
   "metadata": {},
   "source": [
    "### Saving the labels "
   ]
  },
  {
   "cell_type": "code",
   "execution_count": null,
   "metadata": {},
   "outputs": [],
   "source": [
    "np.save('train_labels_8class', train_labels)\n",
    "np.save('test_labels_8class', test_labels)"
   ]
  }
 ],
 "metadata": {
  "kernelspec": {
   "display_name": "Python 3",
   "language": "python",
   "name": "python3"
  },
  "language_info": {
   "codemirror_mode": {
    "name": "ipython",
    "version": 3
   },
   "file_extension": ".py",
   "mimetype": "text/x-python",
   "name": "python",
   "nbconvert_exporter": "python",
   "pygments_lexer": "ipython3",
   "version": "3.7.1"
  }
 },
 "nbformat": 4,
 "nbformat_minor": 2
}
