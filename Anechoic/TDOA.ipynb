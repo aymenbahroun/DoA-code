{
 "cells": [
  {
   "cell_type": "markdown",
   "metadata": {},
   "source": [
    "## Time difference of arrival algorithm TDOA"
   ]
  },
  {
   "cell_type": "code",
   "execution_count": 2,
   "metadata": {},
   "outputs": [
    {
     "name": "stdout",
     "output_type": "stream",
     "text": [
      "Ground truth: 0  estimation: -0.0\n",
      "Ground truth: 1  estimation: 0.8933294834001297\n",
      "Ground truth: 2  estimation: 1.7868762241886738\n",
      "Ground truth: 3  estimation: 3.1280802326535007\n",
      "Ground truth: 4  estimation: 4.023124921616211\n",
      "Ground truth: 5  estimation: 4.9191541751500125\n",
      "Ground truth: 6  estimation: 5.816391209659697\n",
      "Ground truth: 7  estimation: 7.1650064037104055\n",
      "Ground truth: 8  estimation: 8.066258469811443\n",
      "Ground truth: 9  estimation: 8.969524340159936\n",
      "Ground truth: 10  estimation: 9.875043682290848\n",
      "Ground truth: 11  estimation: 11.23808535059425\n",
      "Ground truth: 12  estimation: 12.150323103985906\n",
      "Ground truth: 13  estimation: 13.065699038911466\n",
      "Ground truth: 14  estimation: 13.98448195638378\n",
      "Ground truth: 15  estimation: 14.906949226174254\n",
      "Ground truth: 16  estimation: 15.601389695685775\n",
      "Ground truth: 17  estimation: 17.23114461094311\n",
      "Ground truth: 18  estimation: 18.168836781977365\n",
      "Ground truth: 19  estimation: 19.111593086545984\n",
      "Ground truth: 20  estimation: 19.822189119082175\n",
      "Ground truth: 21  estimation: 20.77464137961918\n",
      "Ground truth: 22  estimation: 21.733138968139315\n",
      "Ground truth: 23  estimation: 22.698072077811016\n",
      "Ground truth: 24  estimation: 23.669851568656473\n",
      "Ground truth: 25  estimation: 24.648911064587654\n",
      "Ground truth: 26  estimation: 25.635709296198108\n",
      "Ground truth: 27  estimation: 26.63073272742737\n",
      "Ground truth: 28  estimation: 27.634498511242352\n",
      "Ground truth: 29  estimation: 28.647557828058556\n",
      "Ground truth: 30  estimation: 29.670499671151344\n",
      "Ground truth: 31  estimation: 30.703955156301134\n",
      "Ground truth: 32  estimation: 31.74860244904895\n",
      "Ground truth: 33  estimation: 32.805172423099414\n",
      "Ground truth: 34  estimation: 33.874455188771876\n",
      "Ground truth: 35  estimation: 34.95730766254487\n",
      "Ground truth: 36  estimation: 35.504110735119475\n",
      "Ground truth: 37  estimation: 36.60909270723707\n",
      "Ground truth: 38  estimation: 37.73014067123824\n",
      "Ground truth: 39  estimation: 38.868425649724486\n",
      "Ground truth: 40  estimation: 39.44443052428828\n",
      "Ground truth: 41  estimation: 40.61103620089188\n",
      "Ground truth: 42  estimation: 41.7983778088844\n",
      "Ground truth: 43  estimation: 43.008141275018914\n",
      "Ground truth: 44  estimation: 43.62201364096221\n",
      "Ground truth: 45  estimation: 44.86903376992649\n",
      "Ground truth: 46  estimation: 45.50275011010064\n",
      "Ground truth: 47  estimation: 46.79216406663771\n",
      "Ground truth: 48  estimation: 47.4485564331498\n",
      "Ground truth: 49  estimation: 48.786645718555214\n",
      "Ground truth: 50  estimation: 49.46920710989554\n",
      "Ground truth: 51  estimation: 50.8637947205915\n",
      "Ground truth: 52  estimation: 51.57692000503224\n",
      "Ground truth: 53  estimation: 53.03796357104646\n",
      "Ground truth: 54  estimation: 53.787315992865274\n",
      "Ground truth: 55  estimation: 54.550299600027216\n",
      "Ground truth: 56  estimation: 55.32782971178496\n",
      "Ground truth: 57  estimation: 56.930716493173605\n",
      "Ground truth: 58  estimation: 57.75848308239284\n",
      "Ground truth: 59  estimation: 58.60566124826935\n",
      "Ground truth: 60  estimation: 59.47388371651063\n",
      "Ground truth: 61  estimation: 60.36501696824185\n",
      "Ground truth: 62  estimation: 61.28121093660307\n",
      "Ground truth: 63  estimation: 62.22496315677071\n",
      "Ground truth: 64  estimation: 62.70806930480357\n",
      "Ground truth: 65  estimation: 63.69881580186501\n",
      "Ground truth: 66  estimation: 64.72550908662598\n",
      "Ground truth: 67  estimation: 66.34327347566365\n",
      "Ground truth: 68  estimation: 67.48231421709386\n",
      "Ground truth: 69  estimation: 68.67880959455202\n",
      "Ground truth: 70  estimation: 69.9430620508683\n",
      "Ground truth: 71  estimation: 69.30170441360248\n",
      "Ground truth: 72  estimation: 70.60471688946345\n",
      "Ground truth: 73  estimation: 72.73517461332438\n",
      "Ground truth: 74  estimation: 71.99794912035672\n",
      "Ground truth: 75  estimation: 73.50427211533051\n",
      "Ground truth: 76  estimation: 73.50427211533051\n",
      "Ground truth: 77  estimation: 75.1581087731659\n",
      "Ground truth: 78  estimation: 75.1581087731659\n",
      "Ground truth: 79  estimation: 77.01573815757426\n",
      "Ground truth: 80  estimation: 77.01573815757426\n",
      "Ground truth: 81  estimation: 79.18167582440405\n",
      "Ground truth: 82  estimation: 79.18167582440405\n",
      "Ground truth: 83  estimation: 79.18167582440405\n",
      "Ground truth: 84  estimation: 79.18167582440405\n",
      "Ground truth: 85  estimation: 81.89962165506215\n",
      "Ground truth: 86  estimation: 81.89962165506215\n",
      "Ground truth: 87  estimation: 81.89962165506215\n",
      "Ground truth: 88  estimation: 81.89962165506215\n",
      "Ground truth: 89  estimation: 81.89962165506215\n",
      "Ground truth: 90  estimation: 81.89962165506215\n"
     ]
    }
   ],
   "source": [
    "%matplotlib inline\n",
    "import numpy as np\n",
    "import matplotlib.pyplot as plt \n",
    "from scipy.io import wavfile\n",
    "from scipy import signal\n",
    "\n",
    "estimation_ = np.array([])\n",
    "\n",
    "c = 343#m/s\n",
    "r = 1 #100cm\n",
    "\n",
    "timestep = 1/44000  #nyquist 2xfrequ_max\n",
    "frequ = np.fft.fftfreq(160, d=timestep)\n",
    "#frequ = np.fft.fftshift(frequ)\n",
    "w = 2*np.pi*frequ\n",
    "\n",
    "H_right = np.zeros((160,181), dtype=complex)\n",
    "H_left = np.zeros((160,181), dtype=complex)\n",
    "\n",
    "# 0 -> 90 \n",
    "for theta in range(91):\n",
    "    d = r * np.sin(np.deg2rad(theta))\n",
    "    tau = d/c\n",
    "    H_right[:,theta] = np.exp(-1.j*w*0)\n",
    "    H_left[:,theta] = np.exp(-1.j*w*tau)\n",
    "    \n",
    "# 91 -> 180    -1 -> -90 \n",
    "for theta in range(91,181):  \n",
    "    d = r * np.sin(np.deg2rad(theta-90)) \n",
    "    tau = d/c\n",
    "    H_right[:,theta] = np.exp(-1.j*w*tau)\n",
    "    H_left[:,theta] = np.exp(-1.j*w*0)\n",
    "    \n",
    "h1 = np.fft.irfft(H_right,axis=0)\n",
    "h2 = np.fft.irfft(H_left,axis=0)   \n",
    "\n",
    "\n",
    "#generating white noise and calculating its DFT\n",
    "fs = 16000 #samples/second\n",
    "T_ = 0.5 #length of signal in time domain \n",
    "N = int(T_*fs) #number of samples of the signal \n",
    "mean = 0\n",
    "std = 1 \n",
    "\n",
    "white_noise = np.random.normal(mean, std, size=N) #white noise\n",
    "W = np.fft.rfft(white_noise)\n",
    "\n",
    "\n",
    "\n",
    "num_samples = int(h1.shape[0])\n",
    "conv_len = N + num_samples -1\n",
    "pad1 = np.zeros(conv_len-num_samples+1)\n",
    "pad2 = np.zeros(conv_len-N+1)\n",
    "b_ = np.zeros(181)\n",
    "\n",
    "for theta in range(91) : \n",
    "    #theta = 100  #random theta \n",
    "    y = np.zeros((conv_len,))\n",
    "    y2 = np.zeros((conv_len,))\n",
    "\n",
    "    y = np.convolve(white_noise, h1[:,theta]) \n",
    "    y_normalized = (((y-np.min(y))/(np.max(y)-np.min(y)))*2-1)\n",
    "    y2 = np.convolve(white_noise, h2[:,theta]) \n",
    "    y2_normalized = (((y2-np.min(y2))/(np.max(y2)-np.min(y2)))*2-1)\n",
    "\n",
    "    t = signal.correlate(y_normalized, y2_normalized)\n",
    "\n",
    "    b = np.argmax(t) - (t.size-1)/2 \n",
    "    b_[theta] = b\n",
    "    a = timestep/2 * b * c\n",
    "\n",
    "    if b > 0 :\n",
    "        theta_est = -np.rad2deg(np.arcsin(a/r))\n",
    "    if b < 0 :\n",
    "        theta_est = -np.rad2deg(np.arcsin(a/r))\n",
    "        \n",
    "    theta_est = -np.rad2deg(np.arcsin(a/r))\n",
    "        \n",
    "    if theta in range(0,91) :\n",
    "        print('Ground truth: ' + ''+str(theta) +' ' + ' estimation: ' + str(theta_est))\n",
    "        estimation_ = np.append(estimation_,theta_est)\n",
    "    if theta in range(91,181) :\n",
    "        print(str(theta) + ': ' +'Ground truth: '+str(-(theta-90)) +' : ' + ' estimatiom: ' + str(theta_est)+' /shift= '+ str(b))\n",
    "        "
   ]
  },
  {
   "cell_type": "code",
   "execution_count": 3,
   "metadata": {},
   "outputs": [
    {
     "data": {
      "image/png": "[encoded data removed]",
      "text/plain": [
       "<Figure size 432x288 with 1 Axes>"
      ]
     },
     "metadata": {
      "needs_background": "light"
     },
     "output_type": "display_data"
    }
   ],
   "source": [
    "plt.plot(t)\n",
    "plt.ylabel('cross correlation product')\n",
    "plt.xlabel('step in cross correlation')\n",
    "plt.title('example plot of cross correlation with maximum value peak')\n",
    "plt.show()"
   ]
  },
  {
   "cell_type": "code",
   "execution_count": 4,
   "metadata": {},
   "outputs": [],
   "source": [
    "ground_truth = np.arange(91)\n",
    "error0 = np.sum(np.abs(ground_truth[0:16]-estimation_[0:16]))/16\n",
    "error1 = np.sum(np.abs(ground_truth[16:31]-estimation_[16:31]))/15\n",
    "error2 = np.sum(np.abs(ground_truth[31:46]-estimation_[31:46]))/15\n",
    "error3 = np.sum(np.abs(ground_truth[46:61]-estimation_[46:61]))/15\n",
    "error4 = np.sum(np.abs(ground_truth[61:76]-estimation_[61:76]))/15\n",
    "error5 = np.sum(np.abs(ground_truth[76:91]-estimation_[76:91]))/15"
   ]
  },
  {
   "cell_type": "code",
   "execution_count": 5,
   "metadata": {},
   "outputs": [
    {
     "data": {
      "image/png": "[encoded data removed]",
      "text/plain": [
       "<Figure size 432x288 with 1 Axes>"
      ]
     },
     "metadata": {
      "needs_background": "light"
     },
     "output_type": "display_data"
    }
   ],
   "source": [
    "import seaborn as sns\n",
    "x = np.array(['[0,15]',']15,30]',']30,45]',']45,60]',']60,75]',']75,90]'])\n",
    "y = np.array([error0,error1,error2,error3,error4,error5])\n",
    "sns.barplot(x=x, y=y, palette=\"vlag\")\n",
    "plt.xlabel('Range of angles')\n",
    "plt.ylabel(' Average error')\n",
    "plt.title('Time difference of arrival algorithm results')\n",
    "plt.show()"
   ]
  },
  {
   "cell_type": "code",
   "execution_count": null,
   "metadata": {},
   "outputs": [],
   "source": []
  }
 ],
 "metadata": {
  "kernelspec": {
   "display_name": "Python 3",
   "language": "python",
   "name": "python3"
  },
  "language_info": {
   "codemirror_mode": {
    "name": "ipython",
    "version": 3
   },
   "file_extension": ".py",
   "mimetype": "text/x-python",
   "name": "python",
   "nbconvert_exporter": "python",
   "pygments_lexer": "ipython3",
   "version": "3.7.1"
  }
 },
 "nbformat": 4,
 "nbformat_minor": 2
}
